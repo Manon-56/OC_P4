{
 "cells": [
  {
   "cell_type": "code",
   "execution_count": 10,
   "metadata": {},
   "outputs": [],
   "source": [
    "import pandas as pd\n",
    "import numpy as np\n",
    "\n",
    "from sklearn.linear_model import LinearRegression"
   ]
  },
  {
   "cell_type": "code",
   "execution_count": 7,
   "metadata": {},
   "outputs": [],
   "source": [
    "df = pd.read_csv('age_vs_poids_vs_taille_vs_sexe.csv')"
   ]
  },
  {
   "cell_type": "code",
   "execution_count": null,
   "metadata": {},
   "outputs": [
    {
     "name": "stdout",
     "output_type": "stream",
     "text": [
      "0.6305200466878815\n",
      "[0.10803477 0.55435737 0.15299379]\n"
     ]
    }
   ],
   "source": [
    "# les variables prédictives\n",
    "X = df[['age', 'taille', 'sexe']] #Matrice de design\n",
    "\n",
    "# la variable cible, le poids\n",
    "y = df.poids\n",
    "\n",
    "# on choisit un modèle de régression linéaire\n",
    "reg = LinearRegression()\n",
    "\n",
    "# on entraîne ce modèle sur les données avec la méthode fit\n",
    "reg.fit(X, y)\n",
    "\n",
    "# et on obtient directement un score\n",
    "print(reg.score(X, y))\n",
    "\n",
    "# ainsi que les coefficients a,b,c de la régression linéaire\n",
    "print(reg.coef_)"
   ]
  },
  {
   "cell_type": "code",
   "execution_count": 12,
   "metadata": {},
   "outputs": [
    {
     "name": "stderr",
     "output_type": "stream",
     "text": [
      "/home/chateaux/.conda/envs/OC_P4/lib/python3.13/site-packages/sklearn/utils/validation.py:2739: UserWarning: X does not have valid feature names, but LinearRegression was fitted with feature names\n",
      "  warnings.warn(\n"
     ]
    },
    {
     "data": {
      "text/plain": [
       "array([48.26523956])"
      ]
     },
     "execution_count": 12,
     "metadata": {},
     "output_type": "execute_result"
    }
   ],
   "source": [
    "poids = reg.predict(np.array([[0, 150, 153]]))\n",
    "poids"
   ]
  }
 ],
 "metadata": {
  "kernelspec": {
   "display_name": "OC_P4",
   "language": "python",
   "name": "python3"
  },
  "language_info": {
   "codemirror_mode": {
    "name": "ipython",
    "version": 3
   },
   "file_extension": ".py",
   "mimetype": "text/x-python",
   "name": "python",
   "nbconvert_exporter": "python",
   "pygments_lexer": "ipython3",
   "version": "3.13.2"
  }
 },
 "nbformat": 4,
 "nbformat_minor": 2
}
